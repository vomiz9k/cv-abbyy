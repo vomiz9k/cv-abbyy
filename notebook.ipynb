{
 "cells": [
  {
   "cell_type": "code",
   "execution_count": 9,
   "id": "e3b163db",
   "metadata": {},
   "outputs": [
    {
     "name": "stdout",
     "output_type": "stream",
     "text": [
      "PSNR value is 33.78058070740058 dB\n"
     ]
    }
   ],
   "source": [
    "import os\n",
    "from math import log10, sqrt\n",
    "import cv2\n",
    "import numpy as np\n",
    "\n",
    "os.system(\"./cv_task_1 input.bmp\")\n",
    "\n",
    "\n",
    "def psnr(img1, img2):\n",
    "    mse = np.mean((img1 - img2) ** 2)\n",
    "    if mse == 0:\n",
    "        return 100\n",
    "    PIXEL_MAX = 255.0\n",
    "    return 20 * log10(PIXEL_MAX / sqrt(mse))\n",
    "\n",
    "original = cv2.imread(\"Original.bmp\")\n",
    "compressed = cv2.imread(\"result.bmp\", 1)\n",
    "value = psnr(original, compressed)\n",
    "print(f\"PSNR value is {value} dB\")"
   ]
  },
  {
   "cell_type": "code",
   "execution_count": null,
   "id": "8ef0ee19",
   "metadata": {},
   "outputs": [],
   "source": []
  },
  {
   "cell_type": "code",
   "execution_count": null,
   "id": "6cefa96b",
   "metadata": {},
   "outputs": [],
   "source": []
  }
 ],
 "metadata": {
  "kernelspec": {
   "display_name": "Python 3 (ipykernel)",
   "language": "python",
   "name": "python3"
  },
  "language_info": {
   "codemirror_mode": {
    "name": "ipython",
    "version": 3
   },
   "file_extension": ".py",
   "mimetype": "text/x-python",
   "name": "python",
   "nbconvert_exporter": "python",
   "pygments_lexer": "ipython3",
   "version": "3.9.7"
  }
 },
 "nbformat": 4,
 "nbformat_minor": 5
}
