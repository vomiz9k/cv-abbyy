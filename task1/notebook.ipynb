{
 "cells": [
  {
   "cell_type": "code",
   "execution_count": 1,
   "id": "e3b163db",
   "metadata": {},
   "outputs": [
    {
     "name": "stdout",
     "output_type": "stream",
     "text": [
      "PSNR value is 33.78058070740058 dB\n",
      "Seconds per megapixel is 0.230143\n",
      "\n"
     ]
    }
   ],
   "source": [
    "import os\n",
    "from math import log10, sqrt\n",
    "import cv2\n",
    "import numpy as np\n",
    "\n",
    "\n",
    "sec_per_megapixel = os.popen(\"./cv_task_1 input.bmp\").read()\n",
    "\n",
    "def psnr(img1, img2):\n",
    "    mse = np.mean((img1 - img2) ** 2)\n",
    "    if mse == 0:\n",
    "        return 100\n",
    "    PIXEL_MAX = 255.0\n",
    "    return 20 * log10(PIXEL_MAX / sqrt(mse))\n",
    "\n",
    "original = cv2.imread(\"Original.bmp\")\n",
    "compressed = cv2.imread(\"result.bmp\", 1)\n",
    "value = psnr(original, compressed)\n",
    "print(f\"PSNR value is {value} dB\")\n",
    "print(f\"Seconds per megapixel is {sec_per_megapixel}\")"
   ]
  },
  {
   "cell_type": "code",
   "execution_count": null,
   "id": "8ef0ee19",
   "metadata": {},
   "outputs": [],
   "source": []
  },
  {
   "cell_type": "code",
   "execution_count": null,
   "id": "6cefa96b",
   "metadata": {},
   "outputs": [],
   "source": []
  }
 ],
 "metadata": {
  "kernelspec": {
   "display_name": "Python 3.9.7 64-bit",
   "language": "python",
   "name": "python3"
  },
  "language_info": {
   "codemirror_mode": {
    "name": "ipython",
    "version": 3
   },
   "file_extension": ".py",
   "mimetype": "text/x-python",
   "name": "python",
   "nbconvert_exporter": "python",
   "pygments_lexer": "ipython3",
   "version": "3.9.7"
  },
  "vscode": {
   "interpreter": {
    "hash": "916dbcbb3f70747c44a77c7bcd40155683ae19c65e1c03b4aa3499c5328201f1"
   }
  }
 },
 "nbformat": 4,
 "nbformat_minor": 5
}
